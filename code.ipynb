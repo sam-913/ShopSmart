{
 "cells": [
  {
   "cell_type": "code",
   "execution_count": 53,
   "id": "40246a5a-fe95-4e49-a6b1-bc19392a4c09",
   "metadata": {},
   "outputs": [
    {
     "name": "stdout",
     "output_type": "stream",
     "text": [
      "\u001b[33mWARNING: Ignoring invalid distribution ~ympy (/opt/anaconda3/lib/python3.12/site-packages)\u001b[0m\u001b[33m\n",
      "\u001b[0m\u001b[33mWARNING: Ignoring invalid distribution ~ympy (/opt/anaconda3/lib/python3.12/site-packages)\u001b[0m\u001b[33m\n",
      "\u001b[0mRequirement already satisfied: scikit-surprise in /opt/anaconda3/lib/python3.12/site-packages (1.1.4)\n",
      "Requirement already satisfied: joblib>=1.2.0 in /opt/anaconda3/lib/python3.12/site-packages (from scikit-surprise) (1.4.2)\n",
      "Requirement already satisfied: numpy>=1.19.5 in /opt/anaconda3/lib/python3.12/site-packages (from scikit-surprise) (1.26.4)\n",
      "Requirement already satisfied: scipy>=1.6.0 in /opt/anaconda3/lib/python3.12/site-packages (from scikit-surprise) (1.13.1)\n",
      "\u001b[33mWARNING: Ignoring invalid distribution ~ympy (/opt/anaconda3/lib/python3.12/site-packages)\u001b[0m\u001b[33m\n",
      "\u001b[0m\u001b[33mWARNING: Ignoring invalid distribution ~ympy (/opt/anaconda3/lib/python3.12/site-packages)\u001b[0m\u001b[33m\n",
      "\u001b[0m\u001b[33mWARNING: Ignoring invalid distribution ~ympy (/opt/anaconda3/lib/python3.12/site-packages)\u001b[0m\u001b[33m\n",
      "\u001b[0m\u001b[33mWARNING: Ignoring invalid distribution ~ympy (/opt/anaconda3/lib/python3.12/site-packages)\u001b[0m\u001b[33m\n",
      "\u001b[0m"
     ]
    }
   ],
   "source": [
    "# Install Surprise library\n",
    "!pip install scikit-surprise"
   ]
  },
  {
   "cell_type": "code",
   "execution_count": 75,
   "id": "27a94162-b58e-4a37-b8a7-949c27bf812b",
   "metadata": {},
   "outputs": [
    {
     "data": {
      "text/html": [
       "<div>\n",
       "<style scoped>\n",
       "    .dataframe tbody tr th:only-of-type {\n",
       "        vertical-align: middle;\n",
       "    }\n",
       "\n",
       "    .dataframe tbody tr th {\n",
       "        vertical-align: top;\n",
       "    }\n",
       "\n",
       "    .dataframe thead th {\n",
       "        text-align: right;\n",
       "    }\n",
       "</style>\n",
       "<table border=\"1\" class=\"dataframe\">\n",
       "  <thead>\n",
       "    <tr style=\"text-align: right;\">\n",
       "      <th></th>\n",
       "      <th>CustomerID</th>\n",
       "      <th>StockCode</th>\n",
       "      <th>rating</th>\n",
       "    </tr>\n",
       "  </thead>\n",
       "  <tbody>\n",
       "    <tr>\n",
       "      <th>0</th>\n",
       "      <td>12346.0</td>\n",
       "      <td>23166</td>\n",
       "      <td>NaN</td>\n",
       "    </tr>\n",
       "    <tr>\n",
       "      <th>1</th>\n",
       "      <td>12347.0</td>\n",
       "      <td>16008</td>\n",
       "      <td>5</td>\n",
       "    </tr>\n",
       "    <tr>\n",
       "      <th>2</th>\n",
       "      <td>12347.0</td>\n",
       "      <td>17021</td>\n",
       "      <td>5</td>\n",
       "    </tr>\n",
       "    <tr>\n",
       "      <th>3</th>\n",
       "      <td>12347.0</td>\n",
       "      <td>20665</td>\n",
       "      <td>3</td>\n",
       "    </tr>\n",
       "    <tr>\n",
       "      <th>4</th>\n",
       "      <td>12347.0</td>\n",
       "      <td>20719</td>\n",
       "      <td>5</td>\n",
       "    </tr>\n",
       "  </tbody>\n",
       "</table>\n",
       "</div>"
      ],
      "text/plain": [
       "   CustomerID StockCode rating\n",
       "0     12346.0     23166    NaN\n",
       "1     12347.0     16008      5\n",
       "2     12347.0     17021      5\n",
       "3     12347.0     20665      3\n",
       "4     12347.0     20719      5"
      ]
     },
     "execution_count": 75,
     "metadata": {},
     "output_type": "execute_result"
    }
   ],
   "source": [
    "# Import required libraries\n",
    "import pandas as pd\n",
    "import numpy as np\n",
    "from surprise import Dataset, Reader, SVD\n",
    "from surprise.model_selection import train_test_split\n",
    "import matplotlib.pyplot as plt\n",
    "from sklearn.decomposition import PCA\n",
    "\n",
    "# Load dataset\n",
    "df = pd.read_excel(\"Online Retail.xlsx\")\n",
    "\n",
    "# Drop rows with missing CustomerID\n",
    "df = df.dropna(subset=['CustomerID'])\n",
    "df = df[['CustomerID', 'StockCode', 'Quantity']]\n",
    "\n",
    "# Aggregate purchase frequency as ratings\n",
    "df = df.groupby(['CustomerID', 'StockCode'])['Quantity'].sum().reset_index()\n",
    "\n",
    "# Normalize ratings to a scale of 1-5\n",
    "df['rating'] = pd.cut(df['Quantity'], bins=[0, 1, 5, 10, 20, float('inf')], labels=[1, 2, 3, 4, 5])\n",
    "df = df.drop(columns=['Quantity'])\n",
    "\n",
    "df.head()\n"
   ]
  },
  {
   "cell_type": "code",
   "execution_count": 55,
   "id": "5537fb9c-7497-428e-a4be-446521db3319",
   "metadata": {},
   "outputs": [
    {
     "name": "stdout",
     "output_type": "stream",
     "text": [
      "RMSE: nan\n"
     ]
    },
    {
     "data": {
      "text/plain": [
       "nan"
      ]
     },
     "execution_count": 55,
     "metadata": {},
     "output_type": "execute_result"
    }
   ],
   "source": [
    "# Define rating scale and load data\n",
    "reader = Reader(rating_scale=(1, 5))\n",
    "data = Dataset.load_from_df(df[['CustomerID', 'StockCode', 'rating']], reader)\n",
    "\n",
    "# Train and evaluate the model as before\n",
    "trainset, testset = train_test_split(data, test_size=0.25)\n",
    "algo = SVD()\n",
    "algo.fit(trainset)\n",
    "\n",
    "# Evaluate the model\n",
    "predictions = algo.test(testset)\n",
    "accuracy.rmse(predictions)\n"
   ]
  },
  {
   "cell_type": "code",
   "execution_count": 56,
   "id": "f6db14f2-0bec-4607-8cb9-74744b4a0759",
   "metadata": {},
   "outputs": [
    {
     "name": "stdout",
     "output_type": "stream",
     "text": [
      "Recommended Products for User 17850: [23166, 16008, 17021, 20665, 20719]\n"
     ]
    }
   ],
   "source": [
    "# Function to recommend top-N products for a user\n",
    "def recommend_products(user_id, algo, n=5):\n",
    "    all_products = df['StockCode'].unique()\n",
    "    rated_products = df[df['CustomerID'] == user_id]['StockCode'].unique()\n",
    "\n",
    "    # Predict ratings for products not yet rated by the user\n",
    "    recommendations = []\n",
    "    for product in all_products:\n",
    "        if product not in rated_products:\n",
    "            pred = algo.predict(user_id, product)\n",
    "            recommendations.append((product, pred.est))\n",
    "    \n",
    "    # Sort by predicted rating\n",
    "    recommendations = sorted(recommendations, key=lambda x: x[1], reverse=True)[:n]\n",
    "    return [product for product, _ in recommendations]\n",
    "\n",
    "# Get recommendations for a user\n",
    "user_id = 17850  # Example user ID from dataset\n",
    "recommended_products = recommend_products(user_id, algo)\n",
    "print(f\"Recommended Products for User {user_id}: {recommended_products}\")\n"
   ]
  },
  {
   "cell_type": "code",
   "execution_count": 57,
   "id": "d13316e0-5eba-4758-a83f-d3266b6d2e5e",
   "metadata": {},
   "outputs": [
    {
     "data": {
      "image/png": "[encoded data removed]",
      "text/plain": [
       "<Figure size 1000x500 with 1 Axes>"
      ]
     },
     "metadata": {},
     "output_type": "display_data"
    }
   ],
   "source": [
    "import matplotlib.pyplot as plt\n",
    "\n",
    "# Mock product descriptions (replace with real descriptions from the dataset)\n",
    "product_descriptions = {\n",
    "    '85048': \"White Hanging Heart T-Light Holder\",\n",
    "    '71053': \"Mini Glass Bottles in Wooden Box\",\n",
    "    '84406B': \"Cream Cupid Hearts Coat Hanger\",\n",
    "    '84406G': \"Knitted Union Jack Cushion Cover\",\n",
    "    '22139': \"Box of Vintage Alphabet Blocks\"\n",
    "}\n",
    "\n",
    "# Visualize recommendations\n",
    "labels = [product_descriptions.get(str(pid), f\"Product {pid}\") for pid in recommended_products]\n",
    "scores = [algo.predict(user_id, pid).est for pid in recommended_products]\n",
    "\n",
    "plt.figure(figsize=(10, 5))\n",
    "plt.bar(labels, scores, color='skyblue')\n",
    "plt.title(\"Recommended Products and Predicted Scores\")\n",
    "plt.ylabel(\"Predicted Rating\")\n",
    "plt.xticks(rotation=45, ha=\"right\")\n",
    "plt.tight_layout()\n",
    "plt.show()\n"
   ]
  },
  {
   "cell_type": "code",
   "execution_count": 58,
   "id": "2bf26fd4-54e0-452c-b16b-9587fdc0bb5b",
   "metadata": {},
   "outputs": [
    {
     "name": "stdout",
     "output_type": "stream",
     "text": [
      "Products similar to 101: ['101', '103', '102']\n"
     ]
    }
   ],
   "source": [
    "from sklearn.feature_extraction.text import TfidfVectorizer\n",
    "from sklearn.metrics.pairwise import cosine_similarity\n",
    "\n",
    "# Example: Content-based filtering using product descriptions\n",
    "product_metadata = pd.DataFrame({\n",
    "    'StockCode': ['101', '102', '103'],\n",
    "    'Description': ['Wireless Mouse', 'Gaming Keyboard', 'Fitness Tracker']\n",
    "})\n",
    "\n",
    "# TF-IDF vectorization\n",
    "vectorizer = TfidfVectorizer()\n",
    "tfidf_matrix = vectorizer.fit_transform(product_metadata['Description'])\n",
    "\n",
    "# Compute similarity\n",
    "cosine_sim = cosine_similarity(tfidf_matrix, tfidf_matrix)\n",
    "\n",
    "# Get similar products\n",
    "def get_similar_products(product_id, metadata, similarity_matrix):\n",
    "    idx = metadata[metadata['StockCode'] == product_id].index[0]\n",
    "    similar_indices = similarity_matrix[idx].argsort()[-3:][::-1]  # Top 3 similar products\n",
    "    similar_items = metadata.iloc[similar_indices]['StockCode']\n",
    "    return similar_items.tolist()\n",
    "\n",
    "# Example: Find products similar to '101'\n",
    "similar_products = get_similar_products('101', product_metadata, cosine_sim)\n",
    "print(f\"Products similar to 101: {similar_products}\")\n"
   ]
  },
  {
   "cell_type": "code",
   "execution_count": 77,
   "id": "e6a7303a-2de7-43fd-a84e-2cd1d989eb2e",
   "metadata": {},
   "outputs": [
    {
     "name": "stdout",
     "output_type": "stream",
     "text": [
      "   CustomerID StockCode rating\n",
      "0     12346.0     23166    NaN\n",
      "1     12347.0     16008      5\n",
      "2     12347.0     17021      5\n",
      "3     12347.0     20665      3\n",
      "4     12347.0     20719      5\n",
      "<class 'pandas.core.frame.DataFrame'>\n",
      "RangeIndex: 267615 entries, 0 to 267614\n",
      "Data columns (total 3 columns):\n",
      " #   Column      Non-Null Count   Dtype   \n",
      "---  ------      --------------   -----   \n",
      " 0   CustomerID  267615 non-null  float64 \n",
      " 1   StockCode   267615 non-null  object  \n",
      " 2   rating      265220 non-null  category\n",
      "dtypes: category(1), float64(1), object(1)\n",
      "memory usage: 4.3+ MB\n",
      "None\n"
     ]
    }
   ],
   "source": [
    "print(df.head())\n",
    "print(df.info())\n"
   ]
  },
  {
   "cell_type": "code",
   "execution_count": 81,
   "id": "ac291c7d-5e81-4dcd-a14d-4bfb7f2e885d",
   "metadata": {},
   "outputs": [
    {
     "name": "stdout",
     "output_type": "stream",
     "text": [
      "RMSE: nan\n",
      "RMSE: nan\n"
     ]
    }
   ],
   "source": [
    "# Drop rows with missing CustomerID and InvoiceDate\n",
    "df = pd.read_excel(\"Online Retail.xlsx\")\n",
    "df = df.dropna(subset=['CustomerID', 'InvoiceDate'])\n",
    "\n",
    "# Convert InvoiceDate to datetime\n",
    "df['InvoiceDate'] = pd.to_datetime(df['InvoiceDate'])\n",
    "\n",
    "# Extract additional features\n",
    "# 1. Create Year, Month, and Day columns\n",
    "df['Year'] = df['InvoiceDate'].dt.year\n",
    "df['Month'] = df['InvoiceDate'].dt.month\n",
    "df['Day'] = df['InvoiceDate'].dt.day\n",
    "\n",
    "# 2. Extract the hour of purchase\n",
    "df['Hour'] = df['InvoiceDate'].dt.hour\n",
    "\n",
    "# 3. Create a feature for TotalPrice\n",
    "df['TotalPrice'] = df['Quantity'] * df['UnitPrice']\n",
    "\n",
    "# Aggregate data for collaborative filtering\n",
    "agg_df = df.groupby(['CustomerID', 'StockCode'])['Quantity'].sum().reset_index()\n",
    "agg_df['rating'] = pd.cut(agg_df['Quantity'], bins=[0, 1, 5, 10, 20, float('inf')], labels=[1, 2, 3, 4, 5])\n",
    "\n",
    "# Define rating scale and load data for collaborative filtering\n",
    "reader = Reader(rating_scale=(1, 5))\n",
    "data = Dataset.load_from_df(agg_df[['CustomerID', 'StockCode', 'rating']], reader)\n",
    "\n",
    "# Split data into training and testing sets\n",
    "trainset, testset = train_test_split(data, test_size=0.25)\n",
    "\n",
    "# Train collaborative filtering model\n",
    "algo = SVD()\n",
    "algo.fit(trainset)\n",
    "\n",
    "# Evaluate the model\n",
    "predictions = algo.test(testset)\n",
    "from surprise import accuracy\n",
    "rmse = accuracy.rmse(predictions)\n",
    "print(f\"RMSE: {rmse}\")\n"
   ]
  },
  {
   "cell_type": "code",
   "execution_count": 85,
   "id": "b3bc57f6-2b05-4b52-b131-d436ee73124f",
   "metadata": {},
   "outputs": [
    {
     "data": {
      "image/png": "[encoded data removed]",
      "text/plain": [
       "<Figure size 1000x600 with 1 Axes>"
      ]
     },
     "metadata": {},
     "output_type": "display_data"
    }
   ],
   "source": [
    "from sklearn.preprocessing import StandardScaler\n",
    "from sklearn.decomposition import PCA\n",
    "import matplotlib.pyplot as plt\n",
    "\n",
    "# Create a pivot table for customer-product interactions\n",
    "pivot_df = df.pivot_table(index='CustomerID', columns='StockCode', values='TotalPrice', aggfunc='sum', fill_value=0)\n",
    "\n",
    "# Ensure all column names are strings\n",
    "pivot_df.columns = pivot_df.columns.astype(str)\n",
    "\n",
    "# Normalize the data\n",
    "scaler = StandardScaler()\n",
    "pivot_scaled = scaler.fit_transform(pivot_df)\n",
    "\n",
    "# Perform PCA to reduce dimensionality\n",
    "pca = PCA(n_components=2)\n",
    "pca_result = pca.fit_transform(pivot_scaled)\n",
    "\n",
    "# Add PCA results to a DataFrame\n",
    "pca_df = pd.DataFrame(pca_result, columns=['PCA1', 'PCA2'])\n",
    "pca_df['CustomerID'] = pivot_df.index\n",
    "\n",
    "# Visualize customer clusters\n",
    "plt.figure(figsize=(10, 6))\n",
    "plt.scatter(pca_df['PCA1'], pca_df['PCA2'], alpha=0.7, color='skyblue')\n",
    "plt.title('Customer Clusters (PCA)', fontsize=14)\n",
    "plt.xlabel('PCA1')\n",
    "plt.ylabel('PCA2')\n",
    "plt.show()\n"
   ]
  },
  {
   "cell_type": "code",
   "execution_count": null,
   "id": "401ecfb9-989a-43cf-9f98-f9f16c72582b",
   "metadata": {},
   "outputs": [
    {
     "name": "stdout",
     "output_type": "stream",
     "text": [
      "Top recent products: StockCode\n",
      "23084     29998.85\n",
      "22086     19893.48\n",
      "85123A    15987.12\n",
      "22423     14504.22\n",
      "85099B    12520.03\n",
      "Name: TotalPrice, dtype: float64\n",
      "  InvoiceNo StockCode                        Description_x  Quantity  \\\n",
      "0    536365    85123A   WHITE HANGING HEART T-LIGHT HOLDER         6   \n",
      "1    536365     71053                  WHITE METAL LANTERN         6   \n",
      "2    536365    84406B       CREAM CUPID HEARTS COAT HANGER         8   \n",
      "3    536365    84029G  KNITTED UNION FLAG HOT WATER BOTTLE         6   \n",
      "4    536365    84029E       RED WOOLLY HOTTIE WHITE HEART.         6   \n",
      "\n",
      "          InvoiceDate  UnitPrice  CustomerID         Country  Year  Month  \\\n",
      "0 2010-12-01 08:26:00       2.55     17850.0  United Kingdom  2010     12   \n",
      "1 2010-12-01 08:26:00       3.39     17850.0  United Kingdom  2010     12   \n",
      "2 2010-12-01 08:26:00       2.75     17850.0  United Kingdom  2010     12   \n",
      "3 2010-12-01 08:26:00       3.39     17850.0  United Kingdom  2010     12   \n",
      "4 2010-12-01 08:26:00       3.39     17850.0  United Kingdom  2010     12   \n",
      "\n",
      "   Day  Hour  TotalPrice      Description_y   Category  \n",
      "0    1     8       15.30                NaN        NaN  \n",
      "1    1     8       20.34                NaN        NaN  \n",
      "2    1     8       22.00  Cream Coat Hanger  Furniture  \n",
      "3    1     8       20.34                NaN        NaN  \n",
      "4    1     8       20.34                NaN        NaN  \n"
     ]
    }
   ],
   "source": [
    "# Enhance Recommendations with Contextual Features\n",
    "# Example: Time-based recommendations\n",
    "recent_purchases = df[df['InvoiceDate'] > '2011-11-01']\n",
    "top_recent_products = recent_purchases.groupby('StockCode')['TotalPrice'].sum().sort_values(ascending=False).head(5)\n",
    "print(f\"Top recent products: {top_recent_products}\")\n",
    "\n",
    "# Hybrid Recommendation System (Collaborative + Content-based)\n",
    "# Add product metadata (mock example)\n",
    "product_metadata = pd.DataFrame({\n",
    "    'StockCode': ['85048', '71053', '84406B', '84406G', '22139'],\n",
    "    'Description': ['Heart T-Light Holder', 'Mini Glass Bottles', 'Cream Coat Hanger', 'Knitted Cushion Cover', 'Vintage Blocks'],\n",
    "    'Category': ['Decor', 'Decor', 'Furniture', 'Furniture', 'Toys']\n",
    "})\n",
    "\n",
    "# Merge product metadata with recommendations\n",
    "merged_df = df.merge(product_metadata, on='StockCode', how='left')\n",
    "print(merged_df.head())\n",
    "\n",
    "# Save enhanced dataset for further analysis\n",
    "merged_df.to_csv(\"Enhanced_OnlineRetail.csv\", index=False)\n",
    "print(\"Enhanced dataset saved!\")\n"
   ]
  },
  {
   "cell_type": "code",
   "execution_count": null,
   "id": "afbdb043-07fa-4393-a037-797d42715ce2",
   "metadata": {},
   "outputs": [],
   "source": []
  }
 ],
 "metadata": {
  "kernelspec": {
   "display_name": "Python [conda env:base] *",
   "language": "python",
   "name": "conda-base-py"
  },
  "language_info": {
   "codemirror_mode": {
    "name": "ipython",
    "version": 3
   },
   "file_extension": ".py",
   "mimetype": "text/x-python",
   "name": "python",
   "nbconvert_exporter": "python",
   "pygments_lexer": "ipython3",
   "version": "3.12.7"
  }
 },
 "nbformat": 4,
 "nbformat_minor": 5
}
